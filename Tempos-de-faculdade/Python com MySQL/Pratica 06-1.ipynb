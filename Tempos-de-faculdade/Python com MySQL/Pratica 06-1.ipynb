{
 "metadata": {
  "language_info": {
   "codemirror_mode": {
    "name": "ipython",
    "version": 3
   },
   "file_extension": ".py",
   "mimetype": "text/x-python",
   "name": "python",
   "nbconvert_exporter": "python",
   "pygments_lexer": "ipython3",
   "version": "3.7.9-final"
  },
  "orig_nbformat": 2,
  "kernelspec": {
   "name": "python_defaultSpec_1600539804813",
   "display_name": "Python 3.7.9 64-bit"
  }
 },
 "nbformat": 4,
 "nbformat_minor": 2,
 "cells": [
  {
   "cell_type": "code",
   "execution_count": 26,
   "metadata": {},
   "outputs": [],
   "source": [
    "import pyodbc"
   ]
  },
  {
   "cell_type": "code",
   "execution_count": 74,
   "metadata": {},
   "outputs": [],
   "source": [
    "# Importar a biblioteca Pandas:\n",
    "import pandas as pd"
   ]
  },
  {
   "cell_type": "code",
   "execution_count": 27,
   "metadata": {},
   "outputs": [],
   "source": [
    "class ConexaoBD():\n",
    " def conexao(self):\n",
    "  return pyodbc.connect(driver = '{SQL Server}', server = 'TI08', database = 'empresa', trusted_connection = 'yes') "
   ]
  },
  {
   "cell_type": "code",
   "execution_count": 28,
   "metadata": {},
   "outputs": [],
   "source": [
    "bd = ConexaoBD()\n",
    "conexao = bd.conexao()"
   ]
  },
  {
   "cell_type": "code",
   "execution_count": 41,
   "metadata": {},
   "outputs": [],
   "source": [
    "# Classe Categoria:\n",
    "class Categoria:\n",
    " def __init__ (self, conexao):\n",
    "  self.conexao = conexao\n",
    " def inserir (self):\n",
    "  dml = ''' insert into Categoria (nome, descricao) values\n",
    "  ('Telefonia', 'Aparelho telefônico'),\n",
    "  ('Informática', 'Computador portátil'),\n",
    "  ('Roupa', 'Vestuário'),\n",
    "  ('Calçado', 'Vestuário');\n",
    "  '''\n",
    "  with self.conexao:\n",
    "   cursor = self.conexao.cursor ()\n",
    "   cursor.execute (dml)"
   ]
  },
  {
   "cell_type": "code",
   "execution_count": 42,
   "metadata": {},
   "outputs": [],
   "source": [
    "# Instanciar objeto da classe Categoria:\n",
    "categoria = Categoria (conexao)"
   ]
  },
  {
   "cell_type": "code",
   "execution_count": 43,
   "metadata": {},
   "outputs": [],
   "source": [
    "# Inserir um registro no banco de dados:\n",
    "categoria.inserir ()"
   ]
  },
  {
   "cell_type": "code",
   "execution_count": 146,
   "metadata": {},
   "outputs": [],
   "source": [
    "# Classe Produto:\n",
    "class Produto:\n",
    " def __init__ (self, conexao):\n",
    "  self.conexao = conexao\n",
    " def inserir (self):\n",
    "  dml = ''' insert into Produto (nome, descricao, marca, id_categoria) values\n",
    "   ('Celular', 'Celular 1', 'Apple', 22),\n",
    "   ('Celular', 'Celular 2', 'Samsung', 22),\n",
    "   ('Celular', 'Celular 3', 'Xiaomi', 22),\n",
    "   ('Notebook', 'Notebook 1', 'Apple', 23),\n",
    "   ('Notebook', 'Notebook 2', 'Samsung', 23),\n",
    "   ('Notebook', 'Notebook 3', 'Xiaomi', 23),\n",
    "   ('Camisa', 'Camisa 1', 'Nike', 24),\n",
    "   ('Calça', 'Calça 1', 'Nike', 24),\n",
    "   ('Tênis', 'Tênis 1', 'Nike', 25),\n",
    "   ('Camisa', 'Camisa 2', 'Adidas', 23),\n",
    "   ('Calça', 'Calça 2', 'Adidas', 23),\n",
    "   ('Tênis', 'Tênis 2', 'Adidas', 25),\n",
    "   ('Camisa', 'Camisa 3', 'Zara', 24),\n",
    "   ('Calça', 'Calça 3', 'Zara', 24),\n",
    "   ('Tênis', 'Tênis 3', 'Zara', 25);\n",
    "   '''\n",
    "  with self.conexao:\n",
    "   cursor = self.conexao.cursor ()\n",
    "   cursor.execute (dml)\n",
    "\n",
    "\n",
    " def buscardistinct (self):\n",
    "\n",
    "  sql = ''' select distinct p.nome as Produto from Produto p  '''\n",
    "  data_frame = pd.read_sql_query (sql, self.conexao)\n",
    "  print (data_frame)\n",
    "  print (type (data_frame))\n",
    "\n",
    " def buscargroupby (self):\n",
    "\n",
    "  sql = ''' select p.nome as Produto, c.nome as Categoria,   vp.quantidade as Qtde, vp.preco as Preço\n",
    "  from Produto p, Categoria c, VendedorProduto vp\n",
    "  where vp.id_produto = p.id and\n",
    "  p.id_categoria = c.id\n",
    "  group by p.nome, c.nome, vp.quantidade, vp.preco\n",
    "  '''\n",
    "  data_frame = pd.read_sql_query (sql, self.conexao)\n",
    "  print (data_frame)\n",
    "  print (type (data_frame))\n",
    "\n",
    " def buscarhaving (self):\n",
    "  sql = ''' select p.nome as Produto, c.nome as Categoria, vp.quantidade as Qtde, vp.preco as Preço\n",
    "  from Produto p, Categoria c, VendedorProduto vp\n",
    "  where vp.id_produto = p.id and\n",
    "  p.id_categoria = c.id\n",
    "  group by p.nome, c.nome, vp.quantidade, vp.preco\n",
    "  having vp.preco > 500\n",
    "  '''\n",
    "  data_frame = pd.read_sql_query (sql, self.conexao)\n",
    "  print (data_frame)\n",
    "  print (type (data_frame))\n",
    "\n",
    " def buscarorderby (self):\n",
    "  sql = ''' select p.nome as Produto, c.nome as Categoria, vp.quantidade as Qtde, vp.preco as Preço\n",
    "  from Produto p, Categoria c, VendedorProduto vp\n",
    "  where vp.id_produto = p.id and\n",
    "  p.id_categoria = c.id\n",
    "  group by p.nome, c.nome, vp.quantidade, vp.preco\n",
    "  having vp.preco > 500\n",
    "  order by c.nome asc, vp.preco desc\n",
    "  '''\n",
    "  data_frame = pd.read_sql_query (sql, self.conexao)\n",
    "  print (data_frame)\n",
    "  print (type (data_frame))\n",
    "\n",
    " def buscarcrossjoin (self):\n",
    "  sql = ''' select p.nome as Produto, c.nome as Categoria\n",
    "  from Produto p\n",
    "  cross join Categoria c\n",
    "  order by p.nome, c.nome;\n",
    "  '''\n",
    "  data_frame = pd.read_sql_query (sql, self.conexao)\n",
    "  print (data_frame)\n",
    "  print (type (data_frame))\n"
   ]
  },
  {
   "cell_type": "code",
   "execution_count": 147,
   "metadata": {},
   "outputs": [],
   "source": [
    "# Instanciar objeto da classe Vendedor:\n",
    "produto = Produto (conexao)\n"
   ]
  },
  {
   "cell_type": "code",
   "execution_count": 49,
   "metadata": {},
   "outputs": [],
   "source": [
    "# Inserir um registro no banco de dados:\n",
    "produto.inserir ()"
   ]
  },
  {
   "cell_type": "code",
   "execution_count": 136,
   "metadata": {
    "tags": []
   },
   "outputs": [
    {
     "output_type": "stream",
     "name": "stdout",
     "text": "Produto\n0     Calça\n1    Camisa\n2   Celular\n3  Notebook\n4     Tênis\n<class 'pandas.core.frame.DataFrame'>\n"
    }
   ],
   "source": [
    "# Inserir um registro no banco de dados:\n",
    "produto.buscardistinct ()"
   ]
  },
  {
   "cell_type": "code",
   "execution_count": 127,
   "metadata": {
    "tags": []
   },
   "outputs": [
    {
     "output_type": "stream",
     "name": "stdout",
     "text": "Produto    Categoria  Qtde   Preço\n0      Calça  Informática     0    87.0\n1      Calça        Roupa     2    88.0\n2      Calça        Roupa     8    78.0\n3     Camisa  Informática     0    40.0\n4     Camisa        Roupa    10    45.0\n5     Camisa        Roupa    10    50.0\n6    Celular    Telefonia     1  5000.0\n7    Celular    Telefonia     2  4000.0\n8    Celular    Telefonia     3  3000.0\n9    Celular    Telefonia     4  1000.0\n10  Notebook  Informática     3  5000.0\n11  Notebook  Informática     5  4000.0\n12  Notebook  Informática     6  3000.0\n13     Tênis      Calçado     2   110.0\n14     Tênis      Calçado     3   120.0\n<class 'pandas.core.frame.DataFrame'>\n"
    }
   ],
   "source": [
    "produto.buscargroupby()"
   ]
  },
  {
   "cell_type": "code",
   "execution_count": 132,
   "metadata": {
    "tags": []
   },
   "outputs": [
    {
     "output_type": "stream",
     "name": "stdout",
     "text": "Produto    Categoria  Qtde   Preço\n0   Celular    Telefonia     1  5000.0\n1   Celular    Telefonia     2  4000.0\n2   Celular    Telefonia     3  3000.0\n3   Celular    Telefonia     4  1000.0\n4  Notebook  Informática     3  5000.0\n5  Notebook  Informática     5  4000.0\n6  Notebook  Informática     6  3000.0\n<class 'pandas.core.frame.DataFrame'>\n"
    }
   ],
   "source": [
    "produto.buscarhaving()"
   ]
  },
  {
   "cell_type": "code",
   "execution_count": 139,
   "metadata": {
    "tags": []
   },
   "outputs": [
    {
     "output_type": "stream",
     "name": "stdout",
     "text": "Produto    Categoria  Qtde   Preço\n0  Notebook  Informática     3  5000.0\n1  Notebook  Informática     5  4000.0\n2  Notebook  Informática     6  3000.0\n3   Celular    Telefonia     1  5000.0\n4   Celular    Telefonia     2  4000.0\n5   Celular    Telefonia     3  3000.0\n6   Celular    Telefonia     4  1000.0\n<class 'pandas.core.frame.DataFrame'>\n"
    }
   ],
   "source": [
    "produto.buscarorderby()"
   ]
  },
  {
   "cell_type": "code",
   "execution_count": 148,
   "metadata": {
    "tags": []
   },
   "outputs": [
    {
     "output_type": "stream",
     "name": "stdout",
     "text": "Produto    Categoria\n0      Calça      Calçado\n1      Calça      Calçado\n2      Calça      Calçado\n3      Calça  Informática\n4      Calça  Informática\n5      Calça  Informática\n6      Calça        Roupa\n7      Calça        Roupa\n8      Calça        Roupa\n9      Calça    Telefonia\n10     Calça    Telefonia\n11     Calça    Telefonia\n12    Camisa      Calçado\n13    Camisa      Calçado\n14    Camisa      Calçado\n15    Camisa  Informática\n16    Camisa  Informática\n17    Camisa  Informática\n18    Camisa        Roupa\n19    Camisa        Roupa\n20    Camisa        Roupa\n21    Camisa    Telefonia\n22    Camisa    Telefonia\n23    Camisa    Telefonia\n24   Celular      Calçado\n25   Celular      Calçado\n26   Celular      Calçado\n27   Celular  Informática\n28   Celular  Informática\n29   Celular  Informática\n30   Celular        Roupa\n31   Celular        Roupa\n32   Celular        Roupa\n33   Celular    Telefonia\n34   Celular    Telefonia\n35   Celular    Telefonia\n36  Notebook      Calçado\n37  Notebook      Calçado\n38  Notebook      Calçado\n39  Notebook  Informática\n40  Notebook  Informática\n41  Notebook  Informática\n42  Notebook        Roupa\n43  Notebook        Roupa\n44  Notebook        Roupa\n45  Notebook    Telefonia\n46  Notebook    Telefonia\n47  Notebook    Telefonia\n48     Tênis      Calçado\n49     Tênis      Calçado\n50     Tênis      Calçado\n51     Tênis  Informática\n52     Tênis  Informática\n53     Tênis  Informática\n54     Tênis        Roupa\n55     Tênis        Roupa\n56     Tênis        Roupa\n57     Tênis    Telefonia\n58     Tênis    Telefonia\n59     Tênis    Telefonia\n<class 'pandas.core.frame.DataFrame'>\n"
    }
   ],
   "source": [
    "produto.buscarcrossjoin()"
   ]
  },
  {
   "cell_type": "code",
   "execution_count": 140,
   "metadata": {},
   "outputs": [],
   "source": [
    "# Classe Vendedor:\n",
    "class Vendedor:\n",
    " def __init__ (self, conexao):\n",
    "  self.conexao = conexao\n",
    " def inserir (self):\n",
    "  dml = ''' insert into Vendedor (cpf, nome, email, telefone, endereco) values\n",
    "  ('111.111.111-11', 'Ana', 'ana@ana.com.br', '(11) 1 1111-1111', 'Rua n.1, n. 1, Bairro 1, Cidade 1, MG'),\n",
    "  ('222.222.222-22', 'Bruno', 'bruno@bruno.com.br', '(22) 2 2222-2222', 'Rua n.2, n. 2, Bairro 2, Cidade 2, MG'),\n",
    "  ('333.333.333-33', 'Carla', 'carla@carla.com.br', '(33) 3 3333-3333', 'Rua n.3, n. 3, Bairro 3, Cidade 3, MG'),\n",
    "  ('444.444.444-44', 'Diego', 'diego@diego.com.br', '(44) 4 4444-4444', 'Rua n.4, n. 4, Bairro 4, Cidade 4, MG'),\n",
    "  ('555.555.555-55', 'Elis', 'elis@elis.com.br', '(55) 5 5555-5555', 'Rua n.5, n. 5, Bairro 5, Cidade 5, MG'),\n",
    "  ('666.666.666-66', 'Fábio', 'fabio@fabio.com.br', '(66) 6 6666-6666', 'Rua n.6, n. 6, Bairro 6, Cidade 6, MG'),\n",
    "  ('777.777.777-77', 'Gisele', 'gisele@gisele.com.br', '(77) 7 7777-7777', 'Rua n.7, n. 7, Bairro 7, Cidade 7, MG'),\n",
    "  ('888.888.888-88', 'Heitor', 'heitor@heitor.com.br', '(88) 8 8888-8888', 'Rua n.8, n. 8, Bairro 8, Cidade 8, MG'),\n",
    "  ('999.999.999-99', 'Iris', 'iris@iris.com.br', '(99) 9 9999-9999', 'Rua n.9, n. 9, Bairro 9, Cidade 9, MG');\n",
    "  '''\n",
    "  with self.conexao:\n",
    "   cursor = self.conexao.cursor ()\n",
    "   cursor.execute (dml)\n",
    " \n",
    " def buscar (self):\n",
    "  sql = ''' select v.cpf as CPF, v.nome as Vendedor, v.email as 'E-mail'\n",
    "  from Vendedor v\n",
    "  '''\n",
    "  with self.conexao:\n",
    "   cursor = self.conexao.cursor ()\n",
    "   cursor.execute (sql)\n",
    "\n",
    "   for linha in cursor:\n",
    "    print (linha)\n",
    " \n",
    " def buscarPandas (self):\n",
    "  sql = ''' select v.cpf as CPF, v.nome as Vendedor, v.email as 'E-mail'from Vendedor v'''\n",
    "  data_frame = pd.read_sql_query (sql, self.conexao)\n",
    "  print (data_frame)\n",
    "  print (type (data_frame))\n",
    " \n",
    " def pesquisarPandas (self):\n",
    "  sql = ''' select v.cpf as CPF, v.nome as Vendedor,\n",
    "  p.nome as Produto, p.marca as Marca,\n",
    "  c.nome as Categoria,\n",
    "  vp.quantidade as Qtde, vp.preco as Preço\n",
    "  from Vendedor v, VendedorProduto vp, Produto p, Categoria c\n",
    "  where v.cpf = vp.cpf_vendedor and\n",
    "  vp.id = p.id and\n",
    "  p.id_categoria = c.id;\n",
    "  '''\n",
    "  data_frame = pd.read_sql_query (sql, self.conexao)\n",
    "  print (data_frame)\n",
    "  print (type (data_frame))\n",
    "\n",
    " def buscarlike (self):\n",
    "  sql = ''' select v.cpf as CPF, v.nome as Vendedor\n",
    "  from Vendedor v\n",
    "  where v.nome like '%rl%';'''\n",
    "  data_frame = pd.read_sql_query (sql, self.conexao)\n",
    "  print (data_frame)\n",
    "  print (type (data_frame))\n",
    "\n",
    " def buscarbetween (self):\n",
    "  sql = ''' select v.cpf as CPF, v.nome as Vendedor, p.nome as      Produto, vp.preco as Preço\n",
    "  from Vendedor v, VendedorProduto vp, Produto p\n",
    "  where v.cpf = vp.cpf_vendedor and\n",
    "  vp.id_produto = p.id and\n",
    "  vp.preco between 80 and 200;\n",
    "  '''\n",
    "\n",
    "  data_frame = pd.read_sql_query (sql, self.conexao)\n",
    "  print (data_frame)\n",
    "  print (type (data_frame))\n",
    "\n",
    " def buscarin (self):\n",
    "  sql = ''' select v.cpf as CPF, v.nome as Vendedor\n",
    "  from Vendedor v\n",
    "  where v.cpf in (select vp.cpf_vendedor\n",
    "  from VendedorProduto vp);\n",
    "  '''\n",
    "  data_frame = pd.read_sql_query (sql, self.conexao)\n",
    "  print (data_frame)\n",
    "  print (type (data_frame))\n",
    "\n",
    " def buscarexists (self):\n",
    "  sql = ''' select v.cpf as CPF, v.nome as Vendedor\n",
    "  from Vendedor v\n",
    "  where exists (select vp.cpf_vendedor\n",
    "  from VendedorProduto vp\n",
    "  where v.cpf = vp.cpf_vendedor);\n",
    "  '''\n",
    "  data_frame = pd.read_sql_query (sql, self.conexao)\n",
    "  print (data_frame)\n",
    "  print (type (data_frame))\n",
    "\n",
    " def buscarnotin (self):\n",
    "  sql = ''' select v.cpf as CPF, v.nome as Vendedor\n",
    "  from Vendedor v\n",
    "  where v.cpf not in (select vp.cpf_vendedor\n",
    "  from VendedorProduto vp);\n",
    "  '''\n",
    "  data_frame = pd.read_sql_query (sql, self.conexao)\n",
    "  print (data_frame)\n",
    "  print (type (data_frame))\n",
    " \n",
    " def buscarnotexists (self):\n",
    "  sql = ''' select v.cpf as CPF, v.nome as Vendedor\n",
    "  from Vendedor v\n",
    "  where not exists (select vp.cpf_vendedor\n",
    "  from VendedorProduto vp\n",
    "  where v.cpf = vp.cpf_vendedor);\n",
    "  '''\n",
    "  data_frame = pd.read_sql_query (sql, self.conexao)\n",
    "  print (data_frame)\n",
    "  print (type (data_frame))\n",
    "\n",
    " def buscarjoin (self):\n",
    "  sql = ''' select v.cpf as CPF, v.nome as Vendedor,  vp.quantidade as Qtde, vp.preco as Preço\n",
    "  , p.nome as Produto, c.nome as Categoria\n",
    "  from Vendedor v\n",
    "  inner join VendedorProduto vp on v.cpf = vp.cpf_vendedor\n",
    "  inner join Produto p on vp.id_produto = p.id\n",
    "  inner join Categoria c on p.id_categoria = c.id\n",
    "  order by v.cpf;\n",
    "  '''\n",
    "\n",
    "  data_frame = pd.read_sql_query (sql, self.conexao)\n",
    "  print (data_frame)\n",
    "  print (type (data_frame))\n",
    "\n",
    " def buscarleftjoin (self):\n",
    "  sql = ''' select v.cpf as CPF, v.nome as Vendedor, vp.quantidade as Qtde, vp.preco as Preço\n",
    "  , p.nome as Produto, c.nome as Categoria\n",
    "  from Vendedor v\n",
    "  left join VendedorProduto vp on v.cpf = vp.cpf_vendedor\n",
    "  left join Produto p on vp.id_produto = p.id\n",
    "  left join Categoria c on p.id_categoria = c.id\n",
    "  order by v.cpf;\n",
    "  '''\n",
    "\n",
    "  data_frame = pd.read_sql_query (sql, self.conexao)\n",
    "  print (data_frame)\n",
    "  print (type (data_frame))\n",
    "\n",
    " def buscarrightjoin (self):\n",
    "  sql = ''' select v.cpf as CPF, v.nome as Vendedor,  vp.quantidade as Qtde, vp.preco as Preço\n",
    "  , p.nome as Produto, c.nome as Categoria\n",
    "  from Vendedor v\n",
    "  right join VendedorProduto vp on v.cpf = vp.cpf_vendedor\n",
    "  right join Produto p on vp.id_produto = p.id\n",
    "  right join Categoria c on p.id_categoria = c.id\n",
    "  order by v.cpf;\n",
    "  '''\n",
    "\n",
    "  data_frame = pd.read_sql_query (sql, self.conexao)\n",
    "  print (data_frame)\n",
    "  print (type (data_frame))\n",
    "\n",
    " def buscarfulljoin (self):\n",
    "  sql = ''' select v.cpf as CPF, v.nome as Vendedor,  vp.quantidade as Qtde, vp.preco as Preço\n",
    "  , p.nome as Produto, c.nome as Categoria\n",
    "  from Vendedor v\n",
    "  full join VendedorProduto vp on v.cpf = vp.cpf_vendedor\n",
    "  full join Produto p on vp.id_produto = p.id\n",
    "  full join Categoria c on p.id_categoria = c.id\n",
    "  order by v.cpf;\n",
    "  '''\n",
    "\n",
    "  data_frame = pd.read_sql_query (sql, self.conexao)\n",
    "  print (data_frame)\n",
    "  print (type (data_frame))\n",
    "\n"
   ]
  },
  {
   "cell_type": "code",
   "execution_count": 141,
   "metadata": {},
   "outputs": [],
   "source": [
    "# Instanciar objeto da classe Vendedor:\n",
    "vendedor = Vendedor (conexao)"
   ]
  },
  {
   "cell_type": "code",
   "execution_count": 60,
   "metadata": {},
   "outputs": [],
   "source": [
    "# Inserir um registro no banco de dados:\n",
    "vendedor.inserir ()"
   ]
  },
  {
   "cell_type": "code",
   "execution_count": 73,
   "metadata": {
    "tags": []
   },
   "outputs": [
    {
     "output_type": "stream",
     "name": "stdout",
     "text": "('111.111.111-11', 'Ana', 'ana@ana.com.br')\n('11111111111', 'Wailler Prata', 'wailler.p.b@outlook.com')\n('222.222.222-22', 'Bruno', 'bruno@bruno.com.br')\n('333.333.333-33', 'Carla', 'carla@carla.com.br')\n('444.444.444-44', 'Diego', 'diego@diego.com.br')\n('555.555.555-55', 'Elis', 'elis@elis.com.br')\n('666.666.666-66', 'Fábio', 'fabio@fabio.com.br')\n('777.777.777-77', 'Gisele', 'gisele@gisele.com.br')\n('888.888.888-88', 'Heitor', 'heitor@heitor.com.br')\n('999.999.999-99', 'Iris', 'iris@iris.com.br')\n"
    }
   ],
   "source": [
    "vendedor.buscar()"
   ]
  },
  {
   "cell_type": "code",
   "execution_count": 80,
   "metadata": {
    "tags": []
   },
   "outputs": [
    {
     "output_type": "stream",
     "name": "stdout",
     "text": "CPF       Vendedor                   E-mail\n0  111.111.111-11            Ana           ana@ana.com.br\n1     11111111111  Wailler Prata  wailler.p.b@outlook.com\n2  222.222.222-22          Bruno       bruno@bruno.com.br\n3  333.333.333-33          Carla       carla@carla.com.br\n4  444.444.444-44          Diego       diego@diego.com.br\n5  555.555.555-55           Elis         elis@elis.com.br\n6  666.666.666-66          Fábio       fabio@fabio.com.br\n7  777.777.777-77         Gisele     gisele@gisele.com.br\n8  888.888.888-88         Heitor     heitor@heitor.com.br\n9  999.999.999-99           Iris         iris@iris.com.br\n<class 'pandas.core.frame.DataFrame'>\n"
    }
   ],
   "source": [
    "# Ler os registros do banco de dados:\n",
    "vendedor.buscarPandas ()"
   ]
  },
  {
   "cell_type": "code",
   "execution_count": 84,
   "metadata": {
    "tags": []
   },
   "outputs": [
    {
     "output_type": "stream",
     "name": "stdout",
     "text": "CPF Vendedor   Produto    Marca    Categoria  Qtde   Preço\n0  222.222.222-22    Bruno   Celular    Apple    Telefonia     6  3000.0\n1  333.333.333-33    Carla   Celular  Samsung    Telefonia    10    50.0\n2  333.333.333-33    Carla   Celular   Xiaomi    Telefonia     2    88.0\n3  555.555.555-55     Elis  Notebook    Apple  Informática    10    45.0\n4  666.666.666-66    Fábio  Notebook  Samsung  Informática     3   120.0\n5  666.666.666-66    Fábio  Notebook   Xiaomi  Informática     8    78.0\n6  888.888.888-88   Heitor    Camisa     Nike        Roupa     0    40.0\n7  999.999.999-99     Iris     Calça     Nike        Roupa     0    87.0\n8  999.999.999-99     Iris     Tênis     Nike      Calçado     1  5000.0\n<class 'pandas.core.frame.DataFrame'>\n"
    }
   ],
   "source": [
    "# Ler os registros do banco de dados:\n",
    "vendedor.pesquisarPandas ()\n"
   ]
  },
  {
   "cell_type": "code",
   "execution_count": 87,
   "metadata": {
    "tags": []
   },
   "outputs": [
    {
     "output_type": "stream",
     "name": "stdout",
     "text": "CPF Vendedor\n0  333.333.333-33    Carla\n<class 'pandas.core.frame.DataFrame'>\n"
    }
   ],
   "source": [
    "# Pesquisa:\n",
    "vendedor.buscarlike ()\n"
   ]
  },
  {
   "cell_type": "code",
   "execution_count": 90,
   "metadata": {
    "tags": []
   },
   "outputs": [
    {
     "output_type": "stream",
     "name": "stdout",
     "text": "CPF Vendedor Produto  Preço\n0  111.111.111-11      Ana   Tênis  110.0\n1  333.333.333-33    Carla   Calça   88.0\n2  666.666.666-66    Fábio   Tênis  120.0\n3  999.999.999-99     Iris   Calça   87.0\n<class 'pandas.core.frame.DataFrame'>\n"
    }
   ],
   "source": [
    "# Pesquisa:\n",
    "vendedor.buscarbetween ()\n"
   ]
  },
  {
   "cell_type": "code",
   "execution_count": 103,
   "metadata": {
    "tags": []
   },
   "outputs": [
    {
     "output_type": "stream",
     "name": "stdout",
     "text": "CPF Vendedor\n0  111.111.111-11      Ana\n1  222.222.222-22    Bruno\n2  333.333.333-33    Carla\n3  555.555.555-55     Elis\n4  666.666.666-66    Fábio\n5  888.888.888-88   Heitor\n6  999.999.999-99     Iris\n<class 'pandas.core.frame.DataFrame'>\n"
    }
   ],
   "source": [
    "vendedor.buscarin()"
   ]
  },
  {
   "cell_type": "code",
   "execution_count": 106,
   "metadata": {
    "tags": []
   },
   "outputs": [
    {
     "output_type": "stream",
     "name": "stdout",
     "text": "CPF Vendedor\n0  111.111.111-11      Ana\n1  222.222.222-22    Bruno\n2  333.333.333-33    Carla\n3  555.555.555-55     Elis\n4  666.666.666-66    Fábio\n5  888.888.888-88   Heitor\n6  999.999.999-99     Iris\n<class 'pandas.core.frame.DataFrame'>\n"
    }
   ],
   "source": [
    "vendedor.buscarexists()"
   ]
  },
  {
   "cell_type": "code",
   "execution_count": 109,
   "metadata": {
    "tags": []
   },
   "outputs": [
    {
     "output_type": "stream",
     "name": "stdout",
     "text": "CPF       Vendedor\n0     11111111111  Wailler Prata\n1  444.444.444-44          Diego\n2  777.777.777-77         Gisele\n<class 'pandas.core.frame.DataFrame'>\n"
    }
   ],
   "source": [
    "vendedor.buscarnotexists()"
   ]
  },
  {
   "cell_type": "code",
   "execution_count": 110,
   "metadata": {
    "tags": []
   },
   "outputs": [
    {
     "output_type": "stream",
     "name": "stdout",
     "text": "CPF       Vendedor\n0     11111111111  Wailler Prata\n1  444.444.444-44          Diego\n2  777.777.777-77         Gisele\n<class 'pandas.core.frame.DataFrame'>\n"
    }
   ],
   "source": [
    "vendedor.buscarnotin()"
   ]
  },
  {
   "cell_type": "code",
   "execution_count": 142,
   "metadata": {
    "tags": []
   },
   "outputs": [
    {
     "output_type": "stream",
     "name": "stdout",
     "text": "CPF Vendedor  Qtde   Preço   Produto    Categoria\n0   111.111.111-11      Ana     2  4000.0   Celular    Telefonia\n1   111.111.111-11      Ana     3  3000.0   Celular    Telefonia\n2   111.111.111-11      Ana     4  1000.0   Celular    Telefonia\n3   111.111.111-11      Ana     2   110.0     Tênis      Calçado\n4   222.222.222-22    Bruno     3  5000.0  Notebook  Informática\n5   222.222.222-22    Bruno     5  4000.0  Notebook  Informática\n6   222.222.222-22    Bruno     6  3000.0  Notebook  Informática\n7   333.333.333-33    Carla    10    50.0    Camisa        Roupa\n8   333.333.333-33    Carla     2    88.0     Calça        Roupa\n9   555.555.555-55     Elis    10    45.0    Camisa        Roupa\n10  666.666.666-66    Fábio     3   120.0     Tênis      Calçado\n11  666.666.666-66    Fábio     8    78.0     Calça        Roupa\n12  888.888.888-88   Heitor     0    40.0    Camisa  Informática\n13  999.999.999-99     Iris     0    87.0     Calça  Informática\n14  999.999.999-99     Iris     1  5000.0   Celular    Telefonia\n<class 'pandas.core.frame.DataFrame'>\n"
    }
   ],
   "source": [
    "vendedor.buscarjoin()"
   ]
  },
  {
   "cell_type": "code",
   "execution_count": 143,
   "metadata": {
    "tags": []
   },
   "outputs": [
    {
     "output_type": "stream",
     "name": "stdout",
     "text": "CPF       Vendedor  Qtde   Preço   Produto    Categoria\n0   111.111.111-11            Ana   2.0  4000.0   Celular    Telefonia\n1   111.111.111-11            Ana   3.0  3000.0   Celular    Telefonia\n2   111.111.111-11            Ana   4.0  1000.0   Celular    Telefonia\n3   111.111.111-11            Ana   2.0   110.0     Tênis      Calçado\n4      11111111111  Wailler Prata   NaN     NaN      None         None\n5   222.222.222-22          Bruno   3.0  5000.0  Notebook  Informática\n6   222.222.222-22          Bruno   5.0  4000.0  Notebook  Informática\n7   222.222.222-22          Bruno   6.0  3000.0  Notebook  Informática\n8   333.333.333-33          Carla  10.0    50.0    Camisa        Roupa\n9   333.333.333-33          Carla   2.0    88.0     Calça        Roupa\n10  444.444.444-44          Diego   NaN     NaN      None         None\n11  555.555.555-55           Elis  10.0    45.0    Camisa        Roupa\n12  666.666.666-66          Fábio   3.0   120.0     Tênis      Calçado\n13  666.666.666-66          Fábio   8.0    78.0     Calça        Roupa\n14  777.777.777-77         Gisele   NaN     NaN      None         None\n15  888.888.888-88         Heitor   0.0    40.0    Camisa  Informática\n16  999.999.999-99           Iris   0.0    87.0     Calça  Informática\n17  999.999.999-99           Iris   1.0  5000.0   Celular    Telefonia\n<class 'pandas.core.frame.DataFrame'>\n"
    }
   ],
   "source": [
    "vendedor.buscarleftjoin()"
   ]
  },
  {
   "cell_type": "code",
   "execution_count": 144,
   "metadata": {
    "tags": []
   },
   "outputs": [
    {
     "output_type": "stream",
     "name": "stdout",
     "text": "CPF Vendedor  Qtde   Preço   Produto    Categoria\n0             None     None   NaN     NaN     Calça        Roupa\n1             None     None   NaN     NaN    Camisa        Roupa\n2             None     None   NaN     NaN     Tênis      Calçado\n3   111.111.111-11      Ana   2.0   110.0     Tênis      Calçado\n4   111.111.111-11      Ana   3.0  3000.0   Celular    Telefonia\n5   111.111.111-11      Ana   4.0  1000.0   Celular    Telefonia\n6   111.111.111-11      Ana   2.0  4000.0   Celular    Telefonia\n7   222.222.222-22    Bruno   3.0  5000.0  Notebook  Informática\n8   222.222.222-22    Bruno   5.0  4000.0  Notebook  Informática\n9   222.222.222-22    Bruno   6.0  3000.0  Notebook  Informática\n10  333.333.333-33    Carla  10.0    50.0    Camisa        Roupa\n11  333.333.333-33    Carla   2.0    88.0     Calça        Roupa\n12  555.555.555-55     Elis  10.0    45.0    Camisa        Roupa\n13  666.666.666-66    Fábio   8.0    78.0     Calça        Roupa\n14  666.666.666-66    Fábio   3.0   120.0     Tênis      Calçado\n15  888.888.888-88   Heitor   0.0    40.0    Camisa  Informática\n16  999.999.999-99     Iris   0.0    87.0     Calça  Informática\n17  999.999.999-99     Iris   1.0  5000.0   Celular    Telefonia\n<class 'pandas.core.frame.DataFrame'>\n"
    }
   ],
   "source": [
    "vendedor.buscarrightjoin()"
   ]
  },
  {
   "cell_type": "code",
   "execution_count": 145,
   "metadata": {
    "tags": []
   },
   "outputs": [
    {
     "output_type": "stream",
     "name": "stdout",
     "text": "CPF       Vendedor  Qtde   Preço   Produto    Categoria\n0             None           None   NaN     NaN     Tênis      Calçado\n1             None           None   NaN     NaN    Camisa        Roupa\n2             None           None   NaN     NaN     Calça        Roupa\n3   111.111.111-11            Ana   2.0  4000.0   Celular    Telefonia\n4   111.111.111-11            Ana   3.0  3000.0   Celular    Telefonia\n5   111.111.111-11            Ana   4.0  1000.0   Celular    Telefonia\n6   111.111.111-11            Ana   2.0   110.0     Tênis      Calçado\n7      11111111111  Wailler Prata   NaN     NaN      None         None\n8   222.222.222-22          Bruno   3.0  5000.0  Notebook  Informática\n9   222.222.222-22          Bruno   5.0  4000.0  Notebook  Informática\n10  222.222.222-22          Bruno   6.0  3000.0  Notebook  Informática\n11  333.333.333-33          Carla  10.0    50.0    Camisa        Roupa\n12  333.333.333-33          Carla   2.0    88.0     Calça        Roupa\n13  444.444.444-44          Diego   NaN     NaN      None         None\n14  555.555.555-55           Elis  10.0    45.0    Camisa        Roupa\n15  666.666.666-66          Fábio   3.0   120.0     Tênis      Calçado\n16  666.666.666-66          Fábio   8.0    78.0     Calça        Roupa\n17  777.777.777-77         Gisele   NaN     NaN      None         None\n18  888.888.888-88         Heitor   0.0    40.0    Camisa  Informática\n19  999.999.999-99           Iris   0.0    87.0     Calça  Informática\n20  999.999.999-99           Iris   1.0  5000.0   Celular    Telefonia\n<class 'pandas.core.frame.DataFrame'>\n"
    }
   ],
   "source": [
    "vendedor.buscarfulljoin()"
   ]
  },
  {
   "cell_type": "code",
   "execution_count": 120,
   "metadata": {},
   "outputs": [],
   "source": [
    "# Classe VendedorProduto:\n",
    "class VendedorProduto:\n",
    " def __init__ (self, conexao):\n",
    "  self.conexao = conexao\n",
    " def inserir (self):\n",
    "  dml = ''' insert into VendedorProduto (cpf_vendedor, id_produto,  quantidade, preco)\n",
    "  values\n",
    "  ('111.111.111-11', 12, 2, 4000),\n",
    "  ('111.111.111-11', 13, 3, 3000),\n",
    "  ('111.111.111-11', 14, 4, 1000),\n",
    "  ('111.111.111-11', 23, 2, 110),\n",
    "  ('222.222.222-22', 15, 3, 5000),\n",
    "  ('222.222.222-22', 16, 5, 4000),\n",
    "  ('222.222.222-22', 17, 6, 3000),\n",
    "  ('333.333.333-33', 18, 10, 50),\n",
    "  ('333.333.333-33', 25, 2, 88),\n",
    "  ('555.555.555-55', 18, 10, 45),\n",
    "  ('666.666.666-66', 20, 3, 120),\n",
    "  ('666.666.666-66', 25, 8, 78),\n",
    "  ('888.888.888-88', 21, 0, 40),\n",
    "  ('999.999.999-99', 22, 0, 87),\n",
    "  ('999.999.999-99', 12, 1, 5000);\n",
    "  '''\n",
    "  with self.conexao:\n",
    "   cursor = self.conexao.cursor ()\n",
    "   cursor.execute (dml)\n",
    "\n",
    " def buscarmax (self):\n",
    "  sql = ''' select max (preco) as 'Preço Máximo'\n",
    "  from VendedorProduto'''\n",
    "  data_frame = pd.read_sql_query (sql, self.conexao)\n",
    "  print (data_frame)\n",
    "  print (type (data_frame))\n",
    "\n",
    " def buscarmin (self):\n",
    "  sql = ''' select min (preco) as 'Preço Máximo'\n",
    "  from VendedorProduto\n",
    "  '''\n",
    "  data_frame = pd.read_sql_query (sql, self.conexao)\n",
    "  print (data_frame)\n",
    "  print (type (data_frame))\n",
    " \n",
    " def buscarmedia (self):\n",
    "  sql = ''' select avg (preco) as 'Preço Máximo'from   VendedorProduto\n",
    "  '''\n",
    "  data_frame = pd.read_sql_query (sql, self.conexao)\n",
    "  print (data_frame)\n",
    "  print (type (data_frame))\n",
    " \n",
    " def buscarsoma (self):\n",
    "  sql = ''' select sum (preco) as 'Preço Máximo'\n",
    "  from VendedorProduto\n",
    "  '''\n",
    "  data_frame = pd.read_sql_query (sql, self.conexao)\n",
    "  print (data_frame)\n",
    "  print (type (data_frame))\n",
    " \n",
    " def buscarcont (self):\n",
    "  sql = ''' select count (id) as 'Contagem'\n",
    "  from VendedorProduto'''\n",
    "  data_frame = pd.read_sql_query (sql, self.conexao)\n",
    "  print (data_frame)\n",
    "  print (type (data_frame))\n"
   ]
  },
  {
   "cell_type": "code",
   "execution_count": 121,
   "metadata": {},
   "outputs": [],
   "source": [
    "# Instanciar objeto da classe Vendedor:\n",
    "vendedor_produto = VendedorProduto (conexao)"
   ]
  },
  {
   "cell_type": "code",
   "execution_count": 67,
   "metadata": {},
   "outputs": [],
   "source": [
    "# Inserir um registro no banco de dados:\n",
    "vendedor_produto.inserir ()"
   ]
  },
  {
   "cell_type": "code",
   "execution_count": 113,
   "metadata": {
    "tags": []
   },
   "outputs": [
    {
     "output_type": "stream",
     "name": "stdout",
     "text": "Contagem\n0        15\n<class 'pandas.core.frame.DataFrame'>\n"
    }
   ],
   "source": [
    "vendedor_produto.buscarcont()"
   ]
  },
  {
   "cell_type": "code",
   "execution_count": 114,
   "metadata": {
    "tags": []
   },
   "outputs": [
    {
     "output_type": "stream",
     "name": "stdout",
     "text": "Preço Máximo\n0        5000.0\n<class 'pandas.core.frame.DataFrame'>\n"
    }
   ],
   "source": [
    "vendedor_produto.buscarmax()"
   ]
  },
  {
   "cell_type": "code",
   "execution_count": 115,
   "metadata": {
    "tags": []
   },
   "outputs": [
    {
     "output_type": "stream",
     "name": "stdout",
     "text": "Preço Máximo\n0   1707.866666\n<class 'pandas.core.frame.DataFrame'>\n"
    }
   ],
   "source": [
    "vendedor_produto.buscarmedia()"
   ]
  },
  {
   "cell_type": "code",
   "execution_count": 122,
   "metadata": {
    "tags": []
   },
   "outputs": [
    {
     "output_type": "stream",
     "name": "stdout",
     "text": "Preço Máximo\n0          40.0\n<class 'pandas.core.frame.DataFrame'>\n"
    }
   ],
   "source": [
    "vendedor_produto.buscarmin()"
   ]
  },
  {
   "cell_type": "code",
   "execution_count": 123,
   "metadata": {
    "tags": []
   },
   "outputs": [
    {
     "output_type": "stream",
     "name": "stdout",
     "text": "Preço Máximo\n0       25618.0\n<class 'pandas.core.frame.DataFrame'>\n"
    }
   ],
   "source": [
    "vendedor_produto.buscarsoma()"
   ]
  },
  {
   "cell_type": "code",
   "execution_count": null,
   "metadata": {},
   "outputs": [],
   "source": []
  }
 ]
}