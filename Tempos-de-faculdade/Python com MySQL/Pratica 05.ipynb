{
 "cells": [
  {
   "cell_type": "markdown",
   "metadata": {},
   "source": [
    "# Inserir na Tabela Categoria\n"
   ]
  },
  {
   "cell_type": "code",
   "execution_count": 1,
   "metadata": {},
   "outputs": [],
   "source": [
    "# Importar biblioteca pyodbc:\n",
    "import pyodbc"
   ]
  },
  {
   "cell_type": "code",
   "execution_count": 6,
   "metadata": {},
   "outputs": [],
   "source": [
    "class ConexaoBD():\n",
    " def conexao(self):\n",
    "  return pyodbc.connect (driver = '{SQL Server}', server = 'TI08', database = 'empresa', trusted_connection = 'yes')"
   ]
  },
  {
   "cell_type": "code",
   "execution_count": 8,
   "metadata": {},
   "outputs": [],
   "source": [
    "# Instanciar um objeto da classe para conexão com o banco de dados:\n",
    "bd = ConexaoBD ()\n",
    "# Pegar uma conexão com o banco de dados:\n",
    "conexao = bd.conexao ()"
   ]
  },
  {
   "cell_type": "code",
   "execution_count": 26,
   "metadata": {},
   "outputs": [],
   "source": [
    "# Classe Categoria:\n",
    "class Categoria:\n",
    " def __init__ (self, conexao):\n",
    "  self.conexao = conexao\n",
    " \n",
    " def inserir (self):\n",
    "  dml = \"insert into Categoria (nome, descricao) values ('celulares', 'telefones celulares');\"\n",
    "  with self.conexao:\n",
    "   cursor = self.conexao.cursor ()\n",
    "   cursor.execute (dml)\n",
    "\n",
    " def ler (self):\n",
    "  cursor = self.conexao.cursor()\n",
    "  sql = \"select * from Categoria;\"\n",
    "  cursor.execute (sql)\n",
    "  linha = cursor.fetchone ()\n",
    "  return linha"
   ]
  },
  {
   "cell_type": "code",
   "execution_count": 27,
   "metadata": {},
   "outputs": [],
   "source": [
    "categoria = Categoria(conexao)\n",
    "categoria.inserir()"
   ]
  },
  {
   "cell_type": "code",
   "execution_count": 28,
   "metadata": {},
   "outputs": [
    {
     "output_type": "execute_result",
     "data": {
      "text/plain": "(1, 'celulares', 'telefones celulares')"
     },
     "metadata": {},
     "execution_count": 28
    }
   ],
   "source": [
    "categoria.ler()"
   ]
  },
  {
   "cell_type": "code",
   "execution_count": null,
   "metadata": {},
   "outputs": [],
   "source": []
  }
 ],
 "metadata": {
  "language_info": {
   "codemirror_mode": {
    "name": "ipython",
    "version": 3
   },
   "file_extension": ".py",
   "mimetype": "text/x-python",
   "name": "python",
   "nbconvert_exporter": "python",
   "pygments_lexer": "ipython3",
   "version": 3
  },
  "orig_nbformat": 2,
  "kernelspec": {
   "name": "python_defaultSpec_1599107264101",
   "display_name": "Python 3.7.9 64-bit"
  }
 },
 "nbformat": 4,
 "nbformat_minor": 2
}