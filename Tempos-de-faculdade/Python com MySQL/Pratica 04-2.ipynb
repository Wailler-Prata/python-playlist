{
 "cells": [
  {
   "cell_type": "code",
   "execution_count": 4,
   "metadata": {},
   "outputs": [],
   "source": [
    "import pyodbc"
   ]
  },
  {
   "cell_type": "code",
   "execution_count": 5,
   "metadata": {},
   "outputs": [],
   "source": [
    "class ConexaoBD():\n",
    " def conexao(self):\n",
    "  return pyodbc.connect (driver = '{SQL Server}', server = 'TI08', database = 'empresa', trusted_connection = 'yes')"
   ]
  },
  {
   "cell_type": "code",
   "execution_count": 8,
   "metadata": {},
   "outputs": [],
   "source": [
    "bd = ConexaoBD()\n",
    "conexao = bd.conexao()"
   ]
  },
  {
   "cell_type": "code",
   "execution_count": 28,
   "metadata": {},
   "outputs": [],
   "source": [
    "class Categoria:\n",
    " def __init__ (self, conexao):\n",
    "  self.conexao = conexao\n",
    " def criar (self):\n",
    "  ddl = '''\n",
    "   create table Categoria (\n",
    "   id int primary key identity (1, 1),\n",
    "   nome varchar (32),\n",
    "   descricao text\n",
    "  );\n",
    "  '''\n",
    "  with self.conexao:\n",
    "   self.conexao.execute (ddl)\n",
    " \n",
    " def ler(self):\n",
    "  cursor = self.conexao.cursor ()\n",
    "  cursor.execute ('select * from Categoria')\n",
    "  for linha in cursor:\n",
    "   print (linha)\n"
   ]
  },
  {
   "cell_type": "code",
   "execution_count": 10,
   "metadata": {
    "tags": []
   },
   "outputs": [
    {
     "output_type": "stream",
     "name": "stdout",
     "text": "(1, 'teste', 'teste - teste')\n"
    }
   ],
   "source": [
    "categoria = Categoria (conexao)\n",
    "categoria.ler()"
   ]
  },
  {
   "cell_type": "code",
   "execution_count": 29,
   "metadata": {},
   "outputs": [],
   "source": [
    "categoria = Categoria (conexao)\n",
    "categoria.criar()"
   ]
  },
  {
   "cell_type": "code",
   "execution_count": 30,
   "metadata": {},
   "outputs": [],
   "source": [
    "class Vendedor:\n",
    " def __init__ (self, conexao):\n",
    "  self.conexao = conexao\n",
    " def criar (self):\n",
    "  ddl = '''\n",
    "   CREATE TABLE Vendedor (\n",
    "   cpf varchar (14) primary key,\n",
    "   nome varchar (128),\n",
    "   email varchar (128),\n",
    "   telefone varchar (20),\n",
    "   endereco varchar (256)\n",
    "  );\n",
    "  '''\n",
    "  with self.conexao:\n",
    "   self.conexao.execute(ddl)\n",
    "\n",
    "\n",
    " def ler (self):\n",
    "  cursor = self.conexao.cursor()\n",
    "  cursor.execute('select * from Vendedor')\n",
    "  for linha in cursor:\n",
    "   print(linha)"
   ]
  },
  {
   "cell_type": "code",
   "execution_count": 22,
   "metadata": {
    "tags": []
   },
   "outputs": [
    {
     "output_type": "stream",
     "name": "stdout",
     "text": "('111', 'nome', 'waill@', '111', 'rua')\n"
    }
   ],
   "source": [
    "Vendedor = Vendedor(conexao)\n",
    "Vendedor.ler()"
   ]
  },
  {
   "cell_type": "code",
   "execution_count": 31,
   "metadata": {},
   "outputs": [],
   "source": [
    "vendedor = Vendedor(conexao)\n",
    "vendedor.criar()"
   ]
  },
  {
   "cell_type": "code",
   "execution_count": 32,
   "metadata": {},
   "outputs": [],
   "source": [
    "class Produto:\n",
    " def __init__(self, conexao):\n",
    "  self.conexao = conexao\n",
    " def criar(self):\n",
    "  ddl = '''\n",
    "   CREATE TABLE Produto (\n",
    "   id int primary key identity (1, 1),\n",
    "   nome varchar (128),\n",
    "   descricao text,\n",
    "   marca varchar (32),\n",
    "   id_categoria int foreign key references Categoria (id)\n",
    "  );\n",
    "  '''\n",
    "  with self.conexao:\n",
    "   self.conexao.execute(ddl)\n",
    "\n",
    " def ler (self):\n",
    "  cursor = self.conexao.cursor()\n",
    "  cursor.execute('select * from Produto')\n",
    "  for linha in cursor:\n",
    "   print(linha)"
   ]
  },
  {
   "cell_type": "code",
   "execution_count": 33,
   "metadata": {},
   "outputs": [],
   "source": [
    "produto = Produto(conexao)\n",
    "produto.criar()"
   ]
  },
  {
   "cell_type": "code",
   "execution_count": 27,
   "metadata": {
    "tags": []
   },
   "outputs": [],
   "source": [
    "produto = Produto(conexao)\n",
    "produto.ler()"
   ]
  },
  {
   "cell_type": "code",
   "execution_count": 34,
   "metadata": {},
   "outputs": [],
   "source": [
    "class VendedorProduto:\n",
    " def __init__(self, conexao):\n",
    "  self.conexao = conexao\n",
    " def criar(self):\n",
    "  ddl = '''\n",
    "   CREATE TABLE VendedorProduto (\n",
    "   id int primary key identity (1, 1),\n",
    "   cpf_vendedor varchar (14) foreign key references Vendedor (cpf),\n",
    "   id_produto int foreign key references Produto (id),\n",
    "   quantidade int,\n",
    "   preco decimal\n",
    "  );\n",
    "  '''\n",
    "  with self.conexao:\n",
    "   self.conexao.execute(ddl)\n",
    " \n",
    " def ler(self):\n",
    "  cursor = self.conexao.cursor()\n",
    "  cursor.execute('select * from VendedorProduto')\n",
    "  for linha in cursor:\n",
    "   print(linha)\n"
   ]
  },
  {
   "cell_type": "code",
   "execution_count": 35,
   "metadata": {},
   "outputs": [],
   "source": [
    "vendeProdu = VendedorProduto(conexao)\n",
    "vendeProdu.criar()"
   ]
  },
  {
   "cell_type": "code",
   "execution_count": 24,
   "metadata": {
    "tags": []
   },
   "outputs": [
    {
     "output_type": "stream",
     "name": "stdout",
     "text": "('111', 'nome', 'waill@', '111', 'rua')\n"
    }
   ],
   "source": [
    "VendProd = VendedorProduto(conexao)\n",
    "Vendedor.ler()"
   ]
  },
  {
   "cell_type": "code",
   "execution_count": null,
   "metadata": {},
   "outputs": [],
   "source": []
  }
 ],
 "metadata": {
  "language_info": {
   "codemirror_mode": {
    "name": "ipython",
    "version": 3
   },
   "file_extension": ".py",
   "mimetype": "text/x-python",
   "name": "python",
   "nbconvert_exporter": "python",
   "pygments_lexer": "ipython3",
   "version": 3
  },
  "orig_nbformat": 2,
  "kernelspec": {
   "name": "python_defaultSpec_1599105227977",
   "display_name": "Python 3.7.9 64-bit"
  }
 },
 "nbformat": 4,
 "nbformat_minor": 2
}