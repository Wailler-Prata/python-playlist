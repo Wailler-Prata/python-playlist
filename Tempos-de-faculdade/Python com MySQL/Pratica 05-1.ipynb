{
 "metadata": {
  "language_info": {
   "codemirror_mode": {
    "name": "ipython",
    "version": 3
   },
   "file_extension": ".py",
   "mimetype": "text/x-python",
   "name": "python",
   "nbconvert_exporter": "python",
   "pygments_lexer": "ipython3",
   "version": "3.7.9-final"
  },
  "orig_nbformat": 2,
  "kernelspec": {
   "name": "python_defaultSpec_1600133886382",
   "display_name": "Python 3.7.9 64-bit"
  }
 },
 "nbformat": 4,
 "nbformat_minor": 2,
 "cells": [
  {
   "cell_type": "code",
   "execution_count": 4,
   "metadata": {},
   "outputs": [],
   "source": [
    "import pyodbc"
   ]
  },
  {
   "cell_type": "code",
   "execution_count": 5,
   "metadata": {},
   "outputs": [],
   "source": [
    "class ConexaoBD():\n",
    " def conexao(self):\n",
    "  return pyodbc.connect(driver = '{SQL Server}', server = 'TI08', database = 'empresa', trusted_connection = 'yes') "
   ]
  },
  {
   "cell_type": "code",
   "execution_count": 6,
   "metadata": {},
   "outputs": [],
   "source": [
    "bd = ConexaoBD()\n",
    "conexao = bd.conexao()"
   ]
  },
  {
   "cell_type": "code",
   "execution_count": 132,
   "metadata": {},
   "outputs": [],
   "source": [
    "class Vendedor:\n",
    " def __init__(self,conexao):\n",
    "     self.conexao = conexao\n",
    " def valores (self):\n",
    "  parametros = []\n",
    "  while True:\n",
    "   nome = input(\"Informe o nome do vendedor\")\n",
    "   cpf = input(\"Informe o cpf do vendedor\")\n",
    "   telefone = input(\"Informe o telefone do vendedor\")\n",
    "   email = input(\"Informe o e-mail do vendedor\")\n",
    "   endereco = input(\"Informe o endereco do vendedor\")\n",
    "   parametros.append((cpf, nome, telefone, email, endereco))\n",
    "   resp = input(\"Deseja inserir novamente? S/N\")\n",
    "   if(resp == \"n\"):\n",
    "    break\n",
    "   elif(resp == \"s\"):\n",
    "    return parametros\n",
    "  \n",
    " def inserir (self):\n",
    "  sql = \"insert into Vendedor(cpf, nome, telefone, email, endereco) values(?, ?, ?, ?, ?);\"\n",
    "  parametros = self.valores()\n",
    "  with self.conexao:\n",
    "   cursor = self.conexao.cursor()\n",
    "   cursor.executemany(sql, parametros)\n",
    "\n",
    " def consulta (self):\n",
    "  cursor = self.conexao.cursor ()\n",
    "  cursor.execute ('select * from Vendedor')\n",
    "  for linha in cursor:\n",
    "   print (linha)\n",
    " \n",
    " def exclui (self):\n",
    "  vendedor = input(\"informe o nome do vendedor que deseja excluir\")\n",
    "  sql3 = \"delete Vendedor where nome = ?;\"\n",
    "  with self.conexao:\n",
    "   cursor = self.conexao.cursor()\n",
    "   cursor.execute(sql3, vendedor)\n",
    " \n",
    " def atualiza (self):\n",
    "  vendedor = input(\"informe o nome do vendedor que deseja atualizar\")\n",
    "  cpf = input(\"Informe o cpf do vendedor\")\n",
    "  telefone = input(\"Informe o telefone do vendedor\")\n",
    "  email = input(\"Informe o e-mail do vendedor\")\n",
    "  endereco = input(\"Informe o endereco do vendedor\")\n",
    "  sql3 = \"update Vendedor set cpf = ?, telefone = ?, email = ?, endereco = ? where nome = ? ;\"\n",
    "  with self.conexao:\n",
    "   cursor = self.conexao.cursor()\n",
    "   cursor.execute(sql3, cpf, telefone, email, endereco, vendedor)\n"
   ]
  },
  {
   "cell_type": "code",
   "execution_count": 133,
   "metadata": {},
   "outputs": [],
   "source": [
    "vendedor = Vendedor(conexao)\n"
   ]
  },
  {
   "cell_type": "code",
   "execution_count": 96,
   "metadata": {},
   "outputs": [],
   "source": [
    "vendedor = vendedor.inserir()"
   ]
  },
  {
   "cell_type": "code",
   "execution_count": 135,
   "metadata": {},
   "outputs": [
    {
     "output_type": "execute_result",
     "data": {
      "text/plain": "('11122233344', 'wailler', 'wailler@teste.com', '031999999999', 'alto dos pinheiros')"
     },
     "metadata": {},
     "execution_count": 135
    }
   ],
   "source": [
    "vendedor.consulta()"
   ]
  },
  {
   "cell_type": "code",
   "execution_count": 107,
   "metadata": {},
   "outputs": [],
   "source": [
    "vendedor.exclui()"
   ]
  },
  {
   "cell_type": "code",
   "execution_count": 134,
   "metadata": {},
   "outputs": [],
   "source": [
    "vendedor.atualiza()"
   ]
  },
  {
   "cell_type": "code",
   "execution_count": 17,
   "metadata": {},
   "outputs": [],
   "source": [
    "class Categoria:\n",
    " def __init__(self,conexao):\n",
    "     self.conexao = conexao\n",
    " def valores (self):\n",
    "  parametros = []\n",
    "  while True:\n",
    "   nome = input(\"Informe o nome da categoria\")\n",
    "   descricao = input(\"Informe a descricao da categoria\")\n",
    "   parametros.append((nome, descricao))\n",
    "   resp = input(\"Deseja inserir novamente? S/N\")\n",
    "   if(resp == \"n\"):\n",
    "    break\n",
    "   elif(resp == \"s\"):\n",
    "    return parametros\n",
    "  \n",
    " def inserir (self):\n",
    "  sql = \"insert into categoria(nome, descricao) values(?, ?);\"\n",
    "  parametros = self.valores()\n",
    "  with self.conexao:\n",
    "   cursor = self.conexao.cursor()\n",
    "   cursor.executemany(sql, parametros)\n",
    "\n",
    " def consulta (self):\n",
    "  cursor = self.conexao.cursor ()\n",
    "  cursor.execute ('select * from Categoria')\n",
    "  for linha in cursor:\n",
    "   print (linha)\n",
    "\n",
    " def exclui (self):\n",
    "  categoria = input(\"informe o nome da categoria que deseja excluir\")\n",
    "  sql3 = \"delete categoria where nome = ?;\"\n",
    "  with self.conexao:\n",
    "   cursor = self.conexao.cursor()\n",
    "   cursor.execute(sql3, categoria)\n",
    " \n",
    " def atualiza (self):\n",
    "  idCategoria = input(\"informe o id da categoria que deseja atualizar\")\n",
    "  nome = input(\"Informe o novo nome da categoria\")\n",
    "  descricao = input(\"Informe a nova descricao da categoria\")\n",
    "  sql3 = \"update categoria set nome = ?, descricao = ? where id = ? ;\"\n",
    "  with self.conexao:\n",
    "   cursor = self.conexao.cursor()\n",
    "   cursor.execute(sql3, nome, descricao, idCategoria)\n",
    "\n",
    " "
   ]
  },
  {
   "cell_type": "code",
   "execution_count": 18,
   "metadata": {},
   "outputs": [],
   "source": [
    "categoria = Categoria(conexao)"
   ]
  },
  {
   "cell_type": "code",
   "execution_count": 19,
   "metadata": {
    "tags": []
   },
   "outputs": [
    {
     "output_type": "stream",
     "name": "stdout",
     "text": "(1, 'celulares', 'telefones celulares')\n(10, 'Comida', 'Comida Mineira')\n(11, 'Carros', 'Montadora Fiat')\n(12, 'livros', 'livros impressos')\n(13, 'eletroeletrônicos', 'dispositivos eletroeletrônicos')\n(14, 'alimentos', 'alimentos não perecíveis')\n(15, 'livros', 'livros impressos')\n(16, 'eletroeletrônicos', 'dispositivos eletroeletrônicos')\n(17, 'alimentos', 'alimentos não perecíveis')\n(18, 'casa', 'eletrodomesticos')\n(19, '', '')\n(20, 'cozinha', 'utensílios de cozinha')\n(21, 'cozinha', 'utensílios de cozinha')\n"
    }
   ],
   "source": [
    "categoria.consulta()"
   ]
  },
  {
   "cell_type": "code",
   "execution_count": null,
   "metadata": {},
   "outputs": [],
   "source": [
    "categoria.inserir()"
   ]
  },
  {
   "cell_type": "code",
   "execution_count": null,
   "metadata": {},
   "outputs": [],
   "source": [
    "categoria.atualiza()"
   ]
  },
  {
   "cell_type": "code",
   "execution_count": null,
   "metadata": {},
   "outputs": [],
   "source": [
    "categoria.exclui()"
   ]
  },
  {
   "cell_type": "code",
   "execution_count": 27,
   "metadata": {},
   "outputs": [],
   "source": [
    "class Produto:\n",
    " def __init__(self,conexao):\n",
    "     self.conexao = conexao\n",
    " def valores (self):\n",
    "  parametros = []\n",
    "  while True:\n",
    "   nome = input(\"Informe o nome da Produto\")\n",
    "   descricao = input(\"Informe a descricao da Produto\")\n",
    "   marca = input(\"Informe a marca do produto\")\n",
    "   id_categoria = input(\"Informe o numero da categoria do produto\")\n",
    "   parametros.append((nome, descricao, marca, id_categoria))\n",
    "   resp = input(\"Deseja inserir novamente? S/N\")\n",
    "   if(resp == \"n\"):\n",
    "    break\n",
    "   elif(resp == \"s\"):\n",
    "    return parametros\n",
    "  \n",
    " def inserir (self):\n",
    "  sql = \"insert into Produto(nome, descricao, marca, id_categoria) values(?, ?, ?, ?);\"\n",
    "  parametros = self.valores()\n",
    "  with self.conexao:\n",
    "   cursor = self.conexao.cursor()\n",
    "   cursor.executemany(sql, parametros)\n",
    "\n",
    " def consulta (self):\n",
    "  cursor = self.conexao.cursor ()\n",
    "  cursor.execute ('select * from Produto')\n",
    "  for linha in cursor:\n",
    "   print (linha)\n",
    "\n",
    " def exclui (self):\n",
    "  Produto = input(\"informe o codigo do Produto que deseja excluir\")\n",
    "  sql3 = \"delete Produto where id = ?;\"\n",
    "  with self.conexao:\n",
    "   cursor = self.conexao.cursor()\n",
    "   cursor.execute(sql3, vendedor)\n",
    "\n",
    " def atualiza (self):\n",
    "  idProduto = input(\"informe o id do idProduto que deseja atualizar\")\n",
    "  nome = input(\"Informe o novo nome do Produto\")\n",
    "  descricao = input(\"Informe a nova descricao do Produto\")\n",
    "  marca = input(\"Informe a nova marca do produto\")\n",
    "  categoria = input(\"Informe o novo numero da categoria do produto\")\n",
    "  sql3 = \"update Produto set nome = ?, descricao = ?, marca = ?, id_categoria = ? where id = ? ;\"\n",
    "  with self.conexao:\n",
    "   cursor = self.conexao.cursor()\n",
    "   cursor.execute(sql3, nome, descricao, marca, id_categoria, idProduto)"
   ]
  },
  {
   "cell_type": "code",
   "execution_count": 21,
   "metadata": {},
   "outputs": [],
   "source": [
    "produto = Produto(conexao)"
   ]
  },
  {
   "cell_type": "code",
   "execution_count": 30,
   "metadata": {
    "tags": []
   },
   "outputs": [
    {
     "output_type": "stream",
     "name": "stdout",
     "text": "(1, 'amortecedor', 'Kit com dois amortecedores dianteiros do stilo', 'fiat', 11)\n"
    }
   ],
   "source": [
    "produto.consulta()"
   ]
  },
  {
   "cell_type": "code",
   "execution_count": 29,
   "metadata": {},
   "outputs": [],
   "source": [
    "produto.inserir()"
   ]
  },
  {
   "cell_type": "code",
   "execution_count": null,
   "metadata": {},
   "outputs": [],
   "source": [
    "produto.exclui()"
   ]
  },
  {
   "cell_type": "code",
   "execution_count": null,
   "metadata": {},
   "outputs": [],
   "source": [
    "produto.atualiza()"
   ]
  }
 ]
}