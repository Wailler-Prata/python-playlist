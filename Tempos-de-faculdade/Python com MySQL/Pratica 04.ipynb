{
 "cells": [
  {
   "cell_type": "markdown",
   "metadata": {},
   "source": [
    "# Criar tabela Categoria:"
   ]
  },
  {
   "cell_type": "code",
   "execution_count": 71,
   "metadata": {},
   "outputs": [],
   "source": [
    "# Importar biblioteca pyodbc:\n",
    "import pyodbc"
   ]
  },
  {
   "cell_type": "code",
   "execution_count": 72,
   "metadata": {},
   "outputs": [],
   "source": [
    "# Classe para conexão com o banco de dados:\n",
    "class ConexaoBD ():\n",
    " def conexao (self):\n",
    "  return pyodbc.connect (driver = '{SQL Server}', server = 'TI08', database = 'empresa', trusted_connection = 'yes')\n",
    "# Pegar uma conexão com o banco de dados:\n"
   ]
  },
  {
   "cell_type": "code",
   "execution_count": 73,
   "metadata": {},
   "outputs": [],
   "source": [
    "bd = ConexaoBD ()\n",
    "conexao = bd.conexao ()"
   ]
  },
  {
   "cell_type": "code",
   "execution_count": 75,
   "metadata": {
    "tags": []
   },
   "outputs": [
    {
     "output_type": "stream",
     "name": "stdout",
     "text": "('TI08', )\n"
    }
   ],
   "source": [
    "cursor = conexao.cursor ()\n",
    "cursor.execute ('select @@servername')\n",
    "for nome in cursor:\n",
    " print (nome)"
   ]
  },
  {
   "cell_type": "code",
   "execution_count": 89,
   "metadata": {},
   "outputs": [],
   "source": [
    "# Classe Categoria:\n",
    "class Categoria:\n",
    " def __init__ (self, conexao):\n",
    "  self.conexao = conexao\n",
    " def criar (self):\n",
    "  ddl = '''\n",
    "   create table Categoria (\n",
    "   id int primary key identity (1, 1), -- identity (inicio,  incremento): especifica o valor inicial e de incremento.\n",
    "   nome varchar (32),\n",
    "   descricao text\n",
    "  );\n",
    "  '''\n",
    "  with self.conexao:\n",
    "   self.conexao.execute (ddl)\n",
    "\n",
    "categoria = Categoria (conexao)\n",
    "categoria.criar()"
   ]
  },
  {
   "cell_type": "code",
   "execution_count": null,
   "metadata": {},
   "outputs": [],
   "source": []
  }
 ],
 "metadata": {
  "language_info": {
   "codemirror_mode": {
    "name": "ipython",
    "version": 3
   },
   "file_extension": ".py",
   "mimetype": "text/x-python",
   "name": "python",
   "nbconvert_exporter": "python",
   "pygments_lexer": "ipython3",
   "version": 3
  },
  "orig_nbformat": 2,
  "kernelspec": {
   "name": "python_defaultSpec_1598313342636",
   "display_name": "Python 3.7.9 64-bit"
  }
 },
 "nbformat": 4,
 "nbformat_minor": 2
}